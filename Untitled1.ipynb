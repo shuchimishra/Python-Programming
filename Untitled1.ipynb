{
 "cells": [
  {
   "cell_type": "code",
   "execution_count": 14,
   "metadata": {},
   "outputs": [],
   "source": [
    "#13. Roman to Integer\n",
    "#https://leetcode.com/problems/roman-to-integer/description/\n",
    "class Solution:\n",
    "    def romanToInt(self, s):\n",
    "        roman = {'I':1, 'V':5, 'X':10, 'L':50, 'C':100, 'D':500, 'M':1000}\n",
    "        res = 0\n",
    "        for i in range(len(s)):\n",
    "            current,next = s[i],s[i+1:i+2]\n",
    "            if next and roman[current] < roman[next]:\n",
    "                res = res - roman[current]\n",
    "            else:\n",
    "                res = res + roman[current]\n",
    "        return res\n",
    "\n",
    "        "
   ]
  },
  {
   "cell_type": "code",
   "execution_count": 15,
   "metadata": {},
   "outputs": [
    {
     "name": "stdout",
     "output_type": "stream",
     "text": [
      "1994\n"
     ]
    }
   ],
   "source": [
    "s = \"MCMXCIV\"\n",
    "x = Solution()\n",
    "y = x.romanToInt(s)\n",
    "print(y)"
   ]
  }
 ],
 "metadata": {
  "kernelspec": {
   "display_name": "Python 3",
   "language": "python",
   "name": "python3"
  },
  "language_info": {
   "codemirror_mode": {
    "name": "ipython",
    "version": 3
   },
   "file_extension": ".py",
   "mimetype": "text/x-python",
   "name": "python",
   "nbconvert_exporter": "python",
   "pygments_lexer": "ipython3",
   "version": "3.6.4"
  }
 },
 "nbformat": 4,
 "nbformat_minor": 2
}
