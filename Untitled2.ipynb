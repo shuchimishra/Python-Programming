{
 "cells": [
  {
   "cell_type": "code",
   "execution_count": 27,
   "metadata": {},
   "outputs": [],
   "source": [
    "#169. Majority Element\n",
    "#https://leetcode.com/problems/majority-element/description/\n",
    "import math as m\n",
    "class Solution:\n",
    "    def majorityElement(self, nums):\n",
    "        \"\"\"\n",
    "        :type nums: List[int]\n",
    "        :rtype: int\n",
    "        \"\"\"\n",
    "        n = len(nums)\n",
    "        \n",
    "        nums.sort()\n",
    "        print(m.floor(n/2),nums[m.floor(n/2)],nums[0])\n",
    "        if nums[m.floor(n/2)] == nums[m.floor(n/4)] or nums[m.floor(n/2)] == nums[m.floor(3*n/4)]:\n",
    "            return nums[m.floor(n/2)]\n",
    "        else:\n",
    "            return None\n"
   ]
  },
  {
   "cell_type": "code",
   "execution_count": 28,
   "metadata": {},
   "outputs": [
    {
     "name": "stdout",
     "output_type": "stream",
     "text": [
      "1 3 2\n",
      "3\n"
     ]
    }
   ],
   "source": [
    "    \n",
    "nums = [3,2,3]\n",
    "x = Solution()\n",
    "y = x.majorityElement(nums)\n",
    "print(y)"
   ]
  }
 ],
 "metadata": {
  "kernelspec": {
   "display_name": "Python 3",
   "language": "python",
   "name": "python3"
  },
  "language_info": {
   "codemirror_mode": {
    "name": "ipython",
    "version": 3
   },
   "file_extension": ".py",
   "mimetype": "text/x-python",
   "name": "python",
   "nbconvert_exporter": "python",
   "pygments_lexer": "ipython3",
   "version": "3.6.4"
  }
 },
 "nbformat": 4,
 "nbformat_minor": 2
}
